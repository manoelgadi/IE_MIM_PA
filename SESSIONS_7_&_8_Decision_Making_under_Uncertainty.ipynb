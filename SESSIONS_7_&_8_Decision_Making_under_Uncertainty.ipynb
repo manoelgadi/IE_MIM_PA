{
  "nbformat": 4,
  "nbformat_minor": 0,
  "metadata": {
    "colab": {
      "provenance": []
    },
    "kernelspec": {
      "name": "python3",
      "display_name": "Python 3"
    },
    "language_info": {
      "name": "python"
    }
  },
  "cells": [
    {
      "cell_type": "markdown",
      "source": [
        "# SESSIONS 7 & 8 - Decision Making under Uncertainty\n",
        "\n",
        "## 1. Generating Random Numbers from a Uniform Distribution\n",
        "\n",
        "As discussed in the chapter, the RAND() function in Excel generates a random number between 0 and 1. The following Python code uses the random library to generate 500 random numbers between 0 and 1 and then plots a histogram of the numbers."
      ],
      "metadata": {
        "id": "6538nj1O1AMZ"
      }
    },
    {
      "cell_type": "code",
      "execution_count": 1,
      "metadata": {
        "colab": {
          "base_uri": "https://localhost:8080/",
          "height": 472
        },
        "id": "4d1U8MP-x343",
        "outputId": "d1aa06cf-eb54-4024-d9e8-6d619a076b17"
      },
      "outputs": [
        {
          "output_type": "display_data",
          "data": {
            "text/plain": [
              "<Figure size 640x480 with 1 Axes>"
            ],
            "image/png": "[encoded data removed]"
          },
          "metadata": {}
        }
      ],
      "source": [
        "import random\n",
        "import matplotlib.pyplot as plt\n",
        "\n",
        "# Generate 500 random numbers between 0 and 1\n",
        "random_numbers = [random.random() for _ in range(500)]\n",
        "\n",
        "# Plot a histogram of the random numbers\n",
        "plt.hist(random_numbers, bins=10)\n",
        "plt.xlabel(\"Value\")\n",
        "plt.ylabel(\"Frequency\")\n",
        "plt.title(\"Histogram of 500 Random Numbers from Uniform Distribution\")\n",
        "plt.show()"
      ]
    },
    {
      "cell_type": "markdown",
      "source": [
        "## 2. Generating Random Numbers from a Discrete Distribution\n",
        "\n",
        "The following Python code generates random numbers from a discrete distribution with possible values 50 and 100, and corresponding probabilities 0.7 and 0.3."
      ],
      "metadata": {
        "id": "S0JoROje1Ble"
      }
    },
    {
      "cell_type": "code",
      "source": [
        "import random\n",
        "\n",
        "# Define the possible values and their probabilities\n",
        "values = [50, 100]\n",
        "probabilities = [0.4,0.6]\n",
        "\n",
        "# Generate a list of 1000 random numbers\n",
        "random_numbers = random.choices(values, probabilities, k=1000)\n",
        "\n",
        "# Count the occurrences of each value\n",
        "counts = {value: random_numbers.count(value) for value in set(values)}\n",
        "\n",
        "# Print the counts\n",
        "print(counts)"
      ],
      "metadata": {
        "colab": {
          "base_uri": "https://localhost:8080/"
        },
        "id": "Wz1YO03_yTXD",
        "outputId": "f1ac12e0-d4bc-4736-a824-76b66b0ef7f5"
      },
      "execution_count": 3,
      "outputs": [
        {
          "output_type": "stream",
          "name": "stdout",
          "text": [
            "{50: 405, 100: 595}\n"
          ]
        }
      ]
    },
    {
      "cell_type": "markdown",
      "source": [
        "## 3. Simulating a Supermarket\n",
        "\n",
        "The following Python code simulates the operations of a supermarket. In this simulation, we consider the number of customers arriving at the supermarket and the number of open registers. The simulation calculates the average waiting time for customers."
      ],
      "metadata": {
        "id": "avZ_ffu11U1o"
      }
    },
    {
      "cell_type": "code",
      "source": [
        "import random\n",
        "\n",
        "# Simulation parameters\n",
        "num_customers = 10000\n",
        "num_registers = 5\n",
        "service_time_mean = 30  # Average service time per customer\n",
        "arrival_rate = 10  # Average number of customers arriving per unit time\n",
        "\n",
        "# Initialize simulation variables\n",
        "waiting_times = []\n",
        "current_time = 0\n",
        "registers = [0] * num_registers  # Registers are initially idle\n",
        "customer_queue = []\n",
        "\n",
        "# Simulate customer arrivals and service\n",
        "for _ in range(num_customers):\n",
        "    current_time += random.expovariate(1/arrival_rate)  # Time until next arrival\n",
        "    customer_queue.append(current_time)  # Customer joins the queue\n",
        "\n",
        "    # Assign customers to available registers\n",
        "    for i in range(num_registers):\n",
        "        if registers[i] <= current_time and customer_queue:\n",
        "            arrival_time = customer_queue.pop(0)\n",
        "            wait_time = registers[i] - arrival_time if registers[i] > arrival_time else 0\n",
        "            waiting_times.append(wait_time)\n",
        "            registers[i] = current_time + random.expovariate(1/service_time_mean)  # Register becomes busy\n",
        "\n",
        "# Calculate average waiting time\n",
        "average_waiting_time = sum(waiting_times) / len(waiting_times) if waiting_times else 0\n",
        "print(f\"Average waiting time: {average_waiting_time:.10f} time units\")"
      ],
      "metadata": {
        "colab": {
          "base_uri": "https://localhost:8080/"
        },
        "id": "QhmCiLyix-GQ",
        "outputId": "351381ca-e1ba-41b5-83ef-1e4f3cb47e06"
      },
      "execution_count": 8,
      "outputs": [
        {
          "output_type": "stream",
          "name": "stdout",
          "text": [
            "Average waiting time: 8.7973438790 time units\n"
          ]
        }
      ]
    },
    {
      "cell_type": "markdown",
      "source": [
        "# 4. Practical Case: Option Valuation with Python\n",
        "\n",
        "## Monte Carlo Option Valuation:\n",
        "* Demonstrating Monte Carlo simulation for option pricing.\n",
        "* Estimating stock price at the maturity of the option.\n",
        "* Calculating the payoff value of the option.\n",
        "* Discounting at the risk-free rate."
      ],
      "metadata": {
        "id": "1vCFMncz1c5Z"
      }
    },
    {
      "cell_type": "code",
      "source": [
        "import numpy as np\n",
        "import scipy.stats as si\n",
        "\n",
        "def monte_carlo_option_price(S0, K, T, r, sigma, num_simulations):\n",
        "    \"\"\"\n",
        "    Calculates the price of a European call option using Monte Carlo simulation.\n",
        "\n",
        "    Args:\n",
        "        S0: Current stock price.\n",
        "        K: Strike price.\n",
        "        T: Time to maturity in years.\n",
        "        r: Risk-free interest rate.\n",
        "        sigma: Volatility of the stock.\n",
        "        num_simulations: Number of simulation trials.\n",
        "\n",
        "    Returns:\n",
        "        The estimated price of the call option.\n",
        "    \"\"\"\n",
        "    # Generate random samples from a standard normal distribution\n",
        "    Z = np.random.standard_normal(num_simulations)\n",
        "    # Calculate the stock price at maturity (ST) for each simulation\n",
        "    ST = S0 * np.exp((r - 0.5 * sigma**2) * T + sigma * np.sqrt(T) * Z)\n",
        "    # Calculate the payoff of the call option for each simulation\n",
        "    payoff = np.maximum(ST - K, 0)\n",
        "    # Discount the payoffs back to present value\n",
        "    PV = np.exp(-r * T) * payoff\n",
        "    # Estimate the option price as the average of the present values\n",
        "    option_price = np.mean(PV)\n",
        "    return option_price\n",
        "\n",
        "# Example parameters\n",
        "S0 = 10  # Current stock price\n",
        "K = 8   # Strike price\n",
        "T = 1   # Time to maturity in years\n",
        "r = 0.05  # Risk-free interest rate\n",
        "sigma = 0.2  # Volatility\n",
        "num_simulations = 10000  # Number of simulations\n",
        "\n",
        "# Calculate the option price\n",
        "call_price = monte_carlo_option_price(S0, K, T, r, sigma, num_simulations)\n",
        "print(\"Estimated Call Option Price:\", call_price)"
      ],
      "metadata": {
        "colab": {
          "base_uri": "https://localhost:8080/"
        },
        "id": "1ngaVCqUy4TM",
        "outputId": "086205bb-6459-45cb-db4f-886f3ccf50f5"
      },
      "execution_count": 9,
      "outputs": [
        {
          "output_type": "stream",
          "name": "stdout",
          "text": [
            "Estimated Call Option Price: 2.4661511724075056\n"
          ]
        }
      ]
    },
    {
      "cell_type": "code",
      "source": [],
      "metadata": {
        "id": "64WVPsDr05YG"
      },
      "execution_count": null,
      "outputs": []
    }
  ]
}