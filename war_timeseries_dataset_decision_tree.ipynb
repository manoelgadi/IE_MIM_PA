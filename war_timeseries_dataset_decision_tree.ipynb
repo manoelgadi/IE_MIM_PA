{
 "cells": [
  {
   "cell_type": "code",
   "execution_count": null,
   "metadata": {
    "colab": {
     "base_uri": "https://localhost:8080/",
     "height": 344
    },
    "id": "sPPiS_NfgeIF",
    "outputId": "11f8747a-7762-44bf-cf78-2d32c1cec4cf"
   },
   "outputs": [],
   "source": [
    "import pandas as pd\n",
    "from sklearn.tree import DecisionTreeRegressor, export_graphviz\n",
    "import pydotplus\n",
    "from io import StringIO\n",
    "from IPython.display import Image\n",
    "import requests\n",
    "from io import BytesIO\n",
    "\n",
    "# Download the Excel file from the URL\n",
    "url = \"https://github.com/manoelgadi/IE_MIM_PA/raw/refs/heads/main/war_timeseries_dataset.xlsx\"\n",
    "response = requests.get(url)\n",
    "excel_file = BytesIO(response.content)\n",
    "\n",
    "# Load the dataset from the 'data' sheet of the Excel file\n",
    "try:\n",
    "    data = pd.read_excel(excel_file, sheet_name=\"data\")\n",
    "except Exception as e:\n",
    "    print(f\"Error loading Excel file: {e}\")\n",
    "    exit()\n",
    "\n",
    "# Convert datetime columns to numeric (timestamp)\n",
    "for col in data.columns:\n",
    "    if pd.api.types.is_datetime64_any_dtype(data[col]):\n",
    "        data[col] = pd.to_datetime(data[col]).astype('int64') // 10**9  # Convert to seconds\n",
    "\n",
    "# The last column is the target variable\n",
    "X = data.iloc[:, :-1]  # Features\n",
    "y = data.iloc[:, -1]   # Target\n",
    "\n",
    "# Create and train the Decision Tree Regressor (using all data)\n",
    "clf_regressor = DecisionTreeRegressor(max_depth=6, min_samples_leaf=5)\n",
    "clf_regressor.fit(X, y)\n",
    "\n",
    "# Export the decision tree to a DOT format\n",
    "dot_data = StringIO()\n",
    "export_graphviz(clf_regressor, out_file=dot_data, feature_names=X.columns)\n",
    "\n",
    "# Create a graph from the DOT data\n",
    "graph = pydotplus.graph_from_dot_data(dot_data.getvalue())\n",
    "\n",
    "# Save the graph as a PNG file\n",
    "graph.write_png(\"tree_all_data.png\")\n",
    "\n",
    "# Display the image\n",
    "Image(filename='tree_all_data.png')\n",
    "\n"
   ]
  },
  {
   "cell_type": "code",
   "execution_count": null,
   "metadata": {
    "colab": {
     "base_uri": "https://localhost:8080/"
    },
    "id": "5C4EXrHbhe-z",
    "outputId": "f4978582-4891-4507-f8a1-48e7ac39169e"
   },
   "outputs": [],
   "source": [
    "# Make predictions on the test set\n",
    "from sklearn.metrics import r2_score\n",
    "y_pred = clf_regressor.predict(X)\n",
    "\n",
    "# Calculate R-squared\n",
    "r2 = r2_score(y, y_pred)\n",
    "print(f\"R-squared: {r2}\")"
   ]
  },
  {
   "cell_type": "code",
   "execution_count": null,
   "metadata": {
    "id": "T1HZrHLqmyJa"
   },
   "outputs": [],
   "source": []
  }
 ],
 "metadata": {
  "colab": {
   "provenance": []
  },
  "kernelspec": {
   "display_name": "Python 3 (ipykernel)",
   "language": "python",
   "name": "python3"
  },
  "language_info": {
   "codemirror_mode": {
    "name": "ipython",
    "version": 3
   },
   "file_extension": ".py",
   "mimetype": "text/x-python",
   "name": "python",
   "nbconvert_exporter": "python",
   "pygments_lexer": "ipython3",
   "version": "3.12.7"
  }
 },
 "nbformat": 4,
 "nbformat_minor": 4
}
